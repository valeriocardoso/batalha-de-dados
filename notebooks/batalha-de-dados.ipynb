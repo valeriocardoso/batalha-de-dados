{
 "cells": [
  {
   "cell_type": "code",
   "execution_count": 1,
   "id": "9fbf2001",
   "metadata": {},
   "outputs": [
    {
     "name": "stdout",
     "output_type": "stream",
     "text": [
      "INFO: Pandarallel will run on 8 workers.\n",
      "INFO: Pandarallel will use Memory file system to transfer data between the main process and workers.\n"
     ]
    }
   ],
   "source": [
    "import pandas as pd\n",
    "import glob\n",
    "from pandarallel import pandarallel\n",
    "pandarallel.initialize(progress_bar=True)"
   ]
  },
  {
   "cell_type": "code",
   "execution_count": 2,
   "id": "6c54774b",
   "metadata": {},
   "outputs": [],
   "source": [
    "## Funções"
   ]
  },
  {
   "cell_type": "code",
   "execution_count": 3,
   "id": "0633baa6",
   "metadata": {},
   "outputs": [],
   "source": [
    "def convert_to_numb(x):\n",
    "    \n",
    "    try:\n",
    "        \n",
    "        x = x.strip('0') \\\n",
    "             .replace(',','.')\n",
    "\n",
    "        x = float(x)\n",
    "        \n",
    "        return x\n",
    "        \n",
    "    except:\n",
    "        \n",
    "        return None\n",
    "    \n",
    "def convert_d(row):\n",
    "    \n",
    "    cols_acerto = [col for col in row.index\n",
    "                   if '_ACERTO' in col and\n",
    "                      'D0' in col]\n",
    "\n",
    "    for col in cols_acerto:\n",
    "\n",
    "        d = col.split('_')[0]\n",
    "\n",
    "        col_total = d + '_TOTAL'\n",
    "        \n",
    "        try:\n",
    "            \n",
    "            if float(row[col_total]) > 0:\n",
    "\n",
    "                row[d] = float(row[col]) / float(row[col_total])\n",
    "\n",
    "            else:\n",
    "\n",
    "                row[d] = 0\n",
    "        \n",
    "        except:\n",
    "            \n",
    "            row[d] = 0\n",
    "\n",
    "    return row"
   ]
  },
  {
   "cell_type": "code",
   "execution_count": 4,
   "id": "39c7b3af",
   "metadata": {},
   "outputs": [
    {
     "data": {
      "application/vnd.jupyter.widget-view+json": {
       "model_id": "a6fef82b1d144e5d82eba62a29aa03fd",
       "version_major": 2,
       "version_minor": 0
      },
      "text/plain": [
       "VBox(children=(HBox(children=(IntProgress(value=0, description='0.00%', max=12879), Label(value='0 / 12879')))…"
      ]
     },
     "metadata": {},
     "output_type": "display_data"
    }
   ],
   "source": [
    "# Devido a incosistência dos dados nas bases de 2017\n",
    "# optou-se por utilizar a base de 2018 para analise\n",
    "\n",
    "# Load Base de Dados\n",
    "files = ['/data/batalha-de-dados/dados-ce/dados/tb_spaece_2018_mt_em.csv',\n",
    "         '/data/batalha-de-dados/dados-ce/dados/tb_spaece_2018_lp_em.csv']\n",
    "\n",
    "dfs = []\n",
    "\n",
    "for file in files:\n",
    "\n",
    "    df = pd.read_csv(file, \n",
    "                     sep=';', \n",
    "                     low_memory=False)\n",
    "    \n",
    "    df.drop_duplicates(subset=['CD_ALUNO_CRIPTO'], inplace=True)\n",
    "    \n",
    "    # removendo columns RP e RPA da base de dados\n",
    "    drop_cols = [col for col in df.columns \n",
    "                 if 'RP_' in col or 'RPA_' in col]\n",
    "\n",
    "    df.drop(columns=drop_cols, inplace=True)\n",
    "    \n",
    "    dfs.append(df)\n",
    "    \n",
    "sp_2018 = pd.concat(dfs)\n",
    "\n",
    "sp_2018.fillna(0, inplace=True)\n",
    "\n",
    "sp_2018 = sp_2018.parallel_apply(lambda x: convert_d(x), axis=1)    \n",
    "\n",
    "# Ordernando colunas para melhor organização dos dados\n",
    "cols = list(sp_2018.columns)\n",
    "\n",
    "sp_2018 = sp_2018[sorted(cols)]"
   ]
  },
  {
   "cell_type": "code",
   "execution_count": 5,
   "id": "a08a76eb",
   "metadata": {},
   "outputs": [],
   "source": [
    "# Transformando\n",
    "vl_cols = ['VL_PERC_ACERTOS',\n",
    "           'VL_PROFICIENCIA',\n",
    "           'VL_PROFICIENCIA_ERRO']\n",
    "\n",
    "for col in vl_cols:\n",
    "    \n",
    "    sp_2018[col] = sp_2018[col].apply(lambda x: convert_to_numb(x))\n",
    "    \n",
    "    query = ~sp_2018[col].isnull()\n",
    "    \n",
    "    sp_2018 = sp_2018.loc[query]"
   ]
  },
  {
   "cell_type": "code",
   "execution_count": 6,
   "id": "1578164f",
   "metadata": {},
   "outputs": [
    {
     "data": {
      "text/plain": [
       "<AxesSubplot:>"
      ]
     },
     "execution_count": 6,
     "metadata": {},
     "output_type": "execute_result"
    },
    {
     "data": {
      "image/png": "[encoded data removed]",
      "text/plain": [
       "<Figure size 432x288 with 1 Axes>"
      ]
     },
     "metadata": {
      "needs_background": "light"
     },
     "output_type": "display_data"
    }
   ],
   "source": [
    "sp_2018['VL_PERC_ACERTOS'].hist()"
   ]
  },
  {
   "cell_type": "code",
   "execution_count": 7,
   "id": "dea17fb7",
   "metadata": {},
   "outputs": [
    {
     "data": {
      "text/plain": [
       "<AxesSubplot:>"
      ]
     },
     "execution_count": 7,
     "metadata": {},
     "output_type": "execute_result"
    },
    {
     "data": {
      "image/png": "[encoded data removed]",
      "text/plain": [
       "<Figure size 432x288 with 1 Axes>"
      ]
     },
     "metadata": {
      "needs_background": "light"
     },
     "output_type": "display_data"
    }
   ],
   "source": [
    "sp_2018['VL_PROFICIENCIA'].hist()"
   ]
  },
  {
   "cell_type": "code",
   "execution_count": 8,
   "id": "fa4ea953",
   "metadata": {},
   "outputs": [
    {
     "data": {
      "text/plain": [
       "<AxesSubplot:>"
      ]
     },
     "execution_count": 8,
     "metadata": {},
     "output_type": "execute_result"
    },
    {
     "data": {
      "image/png": "[encoded data removed]",
      "text/plain": [
       "<Figure size 432x288 with 1 Axes>"
      ]
     },
     "metadata": {
      "needs_background": "light"
     },
     "output_type": "display_data"
    }
   ],
   "source": [
    "sp_2018['VL_PROFICIENCIA_ERRO'].hist()"
   ]
  },
  {
   "cell_type": "code",
   "execution_count": 64,
   "id": "7b169b03",
   "metadata": {},
   "outputs": [],
   "source": [
    "cols = [col for col in sp_2018.columns if 'D0' in col\n",
    "        and 'ACERTO' not in col \n",
    "        and 'TOTAL' not in col]\n",
    "\n",
    "ext_cols = ['CD_ALUNO_CRIPTO','CD_DISCIPLINA','CD_TURMA_CRIPTO']\n",
    "\n",
    "cols += ext_cols\n",
    "\n",
    "cols += vl_cols"
   ]
  },
  {
   "cell_type": "code",
   "execution_count": 65,
   "id": "d1b36994",
   "metadata": {},
   "outputs": [],
   "source": [
    "id_cols = ['CD_ALUNO_CRIPTO',\n",
    "           'CD_DISCIPLINA',\n",
    "           'VL_PERC_ACERTOS',\n",
    "           'VL_PROFICIENCIA',\n",
    "           'VL_PROFICIENCIA_ERRO']\n",
    "\n",
    "agg_prof  = pd.melt(frame=sp_2018[cols], \n",
    "                    id_vars=id_cols,\n",
    "                    var_name=['COD'],\n",
    "                    value_name='NOTA')"
   ]
  },
  {
   "cell_type": "code",
   "execution_count": 12,
   "id": "795e5d2a",
   "metadata": {},
   "outputs": [],
   "source": [
    "agg_dicp = pd.read_csv('agg_disciplinas.csv')"
   ]
  },
  {
   "cell_type": "code",
   "execution_count": 80,
   "id": "a57eedc6",
   "metadata": {},
   "outputs": [],
   "source": [
    "agg_prof = agg_prof.merge(agg_dicp, \n",
    "                          how='inner', \n",
    "                          left_on=['CD_DISCIPLINA','COD'],\n",
    "                          right_on=['COD_DISCIPLINA','COD'])\n",
    "\n",
    "cols = ['COD_DISCIPLINA']\n",
    "\n",
    "agg_prof.drop(columns=cols, inplace=True)"
   ]
  }
 ],
 "metadata": {
  "environment": {
   "name": "tf2-gpu.2-4.m65",
   "type": "gcloud",
   "uri": "gcr.io/deeplearning-platform-release/tf2-gpu.2-4:m65"
  },
  "kernelspec": {
   "display_name": "Python 3",
   "language": "python",
   "name": "python3"
  },
  "language_info": {
   "codemirror_mode": {
    "name": "ipython",
    "version": 3
   },
   "file_extension": ".py",
   "mimetype": "text/x-python",
   "name": "python",
   "nbconvert_exporter": "python",
   "pygments_lexer": "ipython3",
   "version": "3.7.10"
  }
 },
 "nbformat": 4,
 "nbformat_minor": 5
}
